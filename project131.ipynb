{
  "nbformat": 4,
  "nbformat_minor": 0,
  "metadata": {
    "colab": {
      "name": "project131",
      "provenance": [],
      "authorship_tag": "ABX9TyNmVkM6l+VR8iuGFI6K0aWW",
      "include_colab_link": true
    },
    "kernelspec": {
      "name": "python3",
      "display_name": "Python 3"
    }
  },
  "cells": [
    {
      "cell_type": "markdown",
      "metadata": {
        "id": "view-in-github",
        "colab_type": "text"
      },
      "source": [
        "<a href=\"https://colab.research.google.com/github/kalravm41/project131/blob/main/project131.ipynb\" target=\"_parent\"><img src=\"https://colab.research.google.com/assets/colab-badge.svg\" alt=\"Open In Colab\"/></a>"
      ]
    },
    {
      "cell_type": "code",
      "metadata": {
        "colab": {
          "base_uri": "https://localhost:8080/"
        },
        "id": "ctrEXq-gQFIn",
        "outputId": "24ea8996-ba01-41a3-a2d7-f5a124b8d786"
      },
      "source": [
        "import pandas as pd\n",
        "import csv\n",
        "\n",
        "df = pd.read_csv('data2.csv')\n",
        "Mass = df['Mass'].tolist()\n",
        "Radius = df['Radius'].tolist()\n",
        "\n",
        "\n",
        "\n",
        "KG = []\n",
        "Meters = []\n",
        "k = []\n",
        "d = []\n",
        "# b = []\n",
        "# r = []\n",
        "del Mass[65]\n",
        "del Mass[71]\n",
        "del Mass[72]\n",
        "del Mass[71]\n",
        "del Mass[74]\n",
        "del Mass[86]\n",
        "del Radius[1]\n",
        "del Radius[55]\n",
        "del Radius[58]\n",
        "del Radius[59]\n",
        "del Radius[59]\n",
        "del Radius[67]\n",
        "del Radius[65]\n",
        "del Radius[68]\n",
        "del Radius[72]\n",
        "del Radius[82]\n",
        "del Radius[80]\n",
        "del Radius[83]\n",
        "\n",
        "for r,i in enumerate(Mass):\n",
        "  i = float(i)\n",
        "  if type(i) == float:\n",
        "    k.append(i)\n",
        "\n",
        "for m,t in enumerate(Radius):\n",
        "  t = float(t)\n",
        "  if type(t) == float:\n",
        "    d.append(t)    \n",
        "\n",
        "for i in k:\n",
        "  KG.append(i * 1.989e+30)\n",
        "\n",
        "for v in d:\n",
        "  Meters.append(i *  6.957e+8)\n",
        "\n",
        "# print(KG)\n",
        "# print(Meters)\n",
        "\n",
        "Gravity = []\n",
        "\n",
        "for x in range(0,83):\n",
        "  gravity = (float(KG[x])*5.972e+24) / (float(Meters[x])*float(Meters[x])*6371000*6371000) * 6.674e-11\n",
        "  Gravity.append(gravity)\n",
        "\n",
        "print(f'Gravity of Planets are {Gravity}')"
      ],
      "execution_count": 187,
      "outputs": [
        {
          "output_type": "stream",
          "text": [
            "[4.4837259290877676e+18, 9.41582445108431e+18, 6.725588893631652e+19, 4.932098521996545e+18, 4.932098521996545e+18, 9.86419704399309e+18, 1.1657687415628196e+19, 1.0312569636901863e+20, 6.725588893631652e+18, 8.967451858175535e+19, 3.0040963724888044e+19, 4.7079122255421555e+19, 8.070706672357982e+18, 8.07070667235798e+19, 6.725588893631652e+18, 5.3804711149053215e+19, 5.124898736947318e+19, 8.519079265266758e+18, 8.519079265266758e+18, 8.519079265266757e+19, 7.173961486540428e+19, 1.7038158530533515e+19, 5.60465741135971e+19, 6.501402597177263e+19, 1.2554432601445749e+19, 6.725588893631652e+18, 3.85600429901548e+19, 2.2418629645438837e+19, 1.569304075180719e+19, 1.4347922973080856e+20, 4.03535333617899e+19, 1.793490371635107e+19, 1.3002805194354524e+19, 1.4796295565989636e+20, 1.905583519862301e+19, 3.811167039724602e+19, 7.622334079449204e+19, 2.5557237795800277e+19, 1.569304075180719e+19, 4.03535333617899e+19, 2.7350728167435383e+19, 1.0716104970519767e+19, 3.138608150361438e+19, 1.2554432601445749e+19, 2.645398298161783e+19, 1.076094222981064e+19, 6.053030004268486e+19, 2.421212001707395e+19, 1.3451177787263304e+19, 9.41582445108431e+18, 6.725588893631652e+19, 1.2554432601445749e+19, 3.510757402475723e+18, 4.443372395725978e+18, 3.676655261851969e+18, 8.967451858175535e+19, 4.483725929087768e+20, 2.017676668089495e+19, 8.608753783848513e+19, 5.694331929941464e+18, 9.86419704399309e+19, 1.3451177787263304e+20, nan, 8.160381190939738e+19, 3.138608150361437e+18, 7.12912422724955e+18, 3.811167039724602e+18, 3.4076317061067034e+18, 5.38047111490532e+18, 6.232379041431997e+19, 2.69023555745266e+18, 7.622334079449204e+19, 4.483725929087768e+20, 1.0760942229810643e+20, 6.277216300722875e+17, 1.7934903716351072e+17, 5.380471114905321e+17, 6.411728078595507e+18, 1.3002805194354527e+21, 8.47424200597588e+20, 8.519079265266757e+19, 2.577245664039649e+20, 4.528563188378645e+18]\n"
          ],
          "name": "stdout"
        }
      ]
    }
  ]
}